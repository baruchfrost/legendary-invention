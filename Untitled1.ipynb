{
 "cells": [
  {
   "cell_type": "code",
   "execution_count": 5,
   "id": "12ab8182",
   "metadata": {},
   "outputs": [],
   "source": [
    "#import libraries\n",
    "import pandas as pd\n",
    "import matplotlib.pyplot as plt"
   ]
  },
  {
   "cell_type": "code",
   "execution_count": 18,
   "id": "c92b504b",
   "metadata": {},
   "outputs": [
    {
     "data": {
      "text/html": [
       "<div>\n",
       "<style scoped>\n",
       "    .dataframe tbody tr th:only-of-type {\n",
       "        vertical-align: middle;\n",
       "    }\n",
       "\n",
       "    .dataframe tbody tr th {\n",
       "        vertical-align: top;\n",
       "    }\n",
       "\n",
       "    .dataframe thead th {\n",
       "        text-align: right;\n",
       "    }\n",
       "</style>\n",
       "<table border=\"1\" class=\"dataframe\">\n",
       "  <thead>\n",
       "    <tr style=\"text-align: right;\">\n",
       "      <th></th>\n",
       "      <th>date</th>\n",
       "      <th>ticker</th>\n",
       "      <th>close_adj</th>\n",
       "    </tr>\n",
       "  </thead>\n",
       "  <tbody>\n",
       "    <tr>\n",
       "      <th>0</th>\n",
       "      <td>1962-01-31</td>\n",
       "      <td>BA</td>\n",
       "      <td>0.466256</td>\n",
       "    </tr>\n",
       "    <tr>\n",
       "      <th>1</th>\n",
       "      <td>1962-01-31</td>\n",
       "      <td>CAT</td>\n",
       "      <td>1.478858</td>\n",
       "    </tr>\n",
       "    <tr>\n",
       "      <th>2</th>\n",
       "      <td>1962-01-31</td>\n",
       "      <td>DD</td>\n",
       "      <td>8.440616</td>\n",
       "    </tr>\n",
       "    <tr>\n",
       "      <th>3</th>\n",
       "      <td>1962-01-31</td>\n",
       "      <td>DIS</td>\n",
       "      <td>0.138620</td>\n",
       "    </tr>\n",
       "    <tr>\n",
       "      <th>4</th>\n",
       "      <td>1962-01-31</td>\n",
       "      <td>GE</td>\n",
       "      <td>1.878712</td>\n",
       "    </tr>\n",
       "  </tbody>\n",
       "</table>\n",
       "</div>"
      ],
      "text/plain": [
       "         date ticker  close_adj\n",
       "0  1962-01-31     BA   0.466256\n",
       "1  1962-01-31    CAT   1.478858\n",
       "2  1962-01-31     DD   8.440616\n",
       "3  1962-01-31    DIS   0.138620\n",
       "4  1962-01-31     GE   1.878712"
      ]
     },
     "execution_count": 18,
     "metadata": {},
     "output_type": "execute_result"
    }
   ],
   "source": [
    "#read csv file\n",
    "spx_df = pd.read_csv(\"spx500_monthly_data.csv\")\n",
    "\n",
    "#creating ticker column\n",
    "ticker_column = spx_df.unstack(level=- 1, fill_value=None)\n",
    "ticker_column\n",
    "\n",
    "#creating a new data frame\n",
    "spx_df.head()"
   ]
  },
  {
   "cell_type": "code",
   "execution_count": 16,
   "id": "6e3eb9b5",
   "metadata": {
    "scrolled": true
   },
   "outputs": [
    {
     "data": {
      "text/plain": [
       "date\n",
       "1962-01      2.058920\n",
       "1962-02      2.116203\n",
       "1962-03      2.132457\n",
       "1962-04      1.977259\n",
       "1962-05      1.798306\n",
       "              ...    \n",
       "2022-11    171.785039\n",
       "2022-12    164.250807\n",
       "2023-01    175.597378\n",
       "2023-02    171.087816\n",
       "2023-03    168.152136\n",
       "Freq: M, Name: close_adj, Length: 735, dtype: float64"
      ]
     },
     "execution_count": 16,
     "metadata": {},
     "output_type": "execute_result"
    }
   ],
   "source": [
    "spx_monthly_df = spx_df.groupby(pd.PeriodIndex(spx_df['date'], freq=\"M\"))['close_adj'].mean()\n",
    "spx_monthly_df"
   ]
  },
  {
   "cell_type": "code",
   "execution_count": null,
   "id": "f6e0663f",
   "metadata": {},
   "outputs": [],
   "source": []
  }
 ],
 "metadata": {
  "kernelspec": {
   "display_name": "Python 3 (ipykernel)",
   "language": "python",
   "name": "python3"
  },
  "language_info": {
   "codemirror_mode": {
    "name": "ipython",
    "version": 3
   },
   "file_extension": ".py",
   "mimetype": "text/x-python",
   "name": "python",
   "nbconvert_exporter": "python",
   "pygments_lexer": "ipython3",
   "version": "3.9.13"
  }
 },
 "nbformat": 4,
 "nbformat_minor": 5
}
