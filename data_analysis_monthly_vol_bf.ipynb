{
 "cells": [
  {
   "cell_type": "code",
   "execution_count": 5,
   "id": "ffdd11bb",
   "metadata": {},
   "outputs": [],
   "source": [
    "import pandas as pd\n",
    "import numpy as np\n",
    "import matplotlib.pyplot as plt\n",
    "\n",
    "\n",
    "spx_volume = pd.read_csv('spx500_monthly_data_vol.csv')\n",
    "\n",
    "\n",
    "# Filter the data to only include years 2015-2018\n",
    "\n",
    "spx_volume = spx_volume[(spx_volume['date'] >= '2015-01-01') & (spx_volume['date'] <= '2018-12-31')]\n",
    "\n"
   ]
  },
  {
   "cell_type": "code",
   "execution_count": 6,
   "id": "60ed08cb",
   "metadata": {},
   "outputs": [],
   "source": [
    "# Plot all the values\n",
    "#plt.figure(figsize=(12, 6))\n",
    "#spx.plot()\n",
    "monthly_vol = spx_volume"
   ]
  },
  {
   "cell_type": "code",
   "execution_count": 7,
   "id": "386b3ea0",
   "metadata": {},
   "outputs": [
    {
     "data": {
      "text/html": [
       "<div>\n",
       "<style scoped>\n",
       "    .dataframe tbody tr th:only-of-type {\n",
       "        vertical-align: middle;\n",
       "    }\n",
       "\n",
       "    .dataframe tbody tr th {\n",
       "        vertical-align: top;\n",
       "    }\n",
       "\n",
       "    .dataframe thead th {\n",
       "        text-align: right;\n",
       "    }\n",
       "</style>\n",
       "<table border=\"1\" class=\"dataframe\">\n",
       "  <thead>\n",
       "    <tr style=\"text-align: right;\">\n",
       "      <th></th>\n",
       "      <th>date</th>\n",
       "      <th>ticker</th>\n",
       "      <th>close_adj</th>\n",
       "      <th>volume</th>\n",
       "    </tr>\n",
       "  </thead>\n",
       "  <tbody>\n",
       "    <tr>\n",
       "      <th>132333</th>\n",
       "      <td>2015-01-31</td>\n",
       "      <td>A</td>\n",
       "      <td>NaN</td>\n",
       "      <td>3054313</td>\n",
       "    </tr>\n",
       "    <tr>\n",
       "      <th>132334</th>\n",
       "      <td>2015-01-31</td>\n",
       "      <td>AAL</td>\n",
       "      <td>0.317476</td>\n",
       "      <td>18473105</td>\n",
       "    </tr>\n",
       "    <tr>\n",
       "      <th>132335</th>\n",
       "      <td>2015-01-31</td>\n",
       "      <td>AAP</td>\n",
       "      <td>2.196826</td>\n",
       "      <td>830486</td>\n",
       "    </tr>\n",
       "    <tr>\n",
       "      <th>132336</th>\n",
       "      <td>2015-01-31</td>\n",
       "      <td>AAPL</td>\n",
       "      <td>-0.823133</td>\n",
       "      <td>83745461</td>\n",
       "    </tr>\n",
       "    <tr>\n",
       "      <th>132337</th>\n",
       "      <td>2015-01-31</td>\n",
       "      <td>ABBV</td>\n",
       "      <td>0.632224</td>\n",
       "      <td>17582302</td>\n",
       "    </tr>\n",
       "    <tr>\n",
       "      <th>...</th>\n",
       "      <td>...</td>\n",
       "      <td>...</td>\n",
       "      <td>...</td>\n",
       "      <td>...</td>\n",
       "    </tr>\n",
       "    <tr>\n",
       "      <th>155442</th>\n",
       "      <td>2018-12-31</td>\n",
       "      <td>YUM</td>\n",
       "      <td>0.344526</td>\n",
       "      <td>1657022</td>\n",
       "    </tr>\n",
       "    <tr>\n",
       "      <th>155443</th>\n",
       "      <td>2018-12-31</td>\n",
       "      <td>ZBH</td>\n",
       "      <td>0.146867</td>\n",
       "      <td>1389692</td>\n",
       "    </tr>\n",
       "    <tr>\n",
       "      <th>155444</th>\n",
       "      <td>2018-12-31</td>\n",
       "      <td>ZBRA</td>\n",
       "      <td>0.629179</td>\n",
       "      <td>409064</td>\n",
       "    </tr>\n",
       "    <tr>\n",
       "      <th>155445</th>\n",
       "      <td>2018-12-31</td>\n",
       "      <td>ZION</td>\n",
       "      <td>-0.774372</td>\n",
       "      <td>2575557</td>\n",
       "    </tr>\n",
       "    <tr>\n",
       "      <th>155446</th>\n",
       "      <td>2018-12-31</td>\n",
       "      <td>ZTS</td>\n",
       "      <td>1.317323</td>\n",
       "      <td>1485209</td>\n",
       "    </tr>\n",
       "  </tbody>\n",
       "</table>\n",
       "<p>23114 rows × 4 columns</p>\n",
       "</div>"
      ],
      "text/plain": [
       "              date ticker  close_adj    volume\n",
       "132333  2015-01-31      A        NaN   3054313\n",
       "132334  2015-01-31    AAL   0.317476  18473105\n",
       "132335  2015-01-31    AAP   2.196826    830486\n",
       "132336  2015-01-31   AAPL  -0.823133  83745461\n",
       "132337  2015-01-31   ABBV   0.632224  17582302\n",
       "...            ...    ...        ...       ...\n",
       "155442  2018-12-31    YUM   0.344526   1657022\n",
       "155443  2018-12-31    ZBH   0.146867   1389692\n",
       "155444  2018-12-31   ZBRA   0.629179    409064\n",
       "155445  2018-12-31   ZION  -0.774372   2575557\n",
       "155446  2018-12-31    ZTS   1.317323   1485209\n",
       "\n",
       "[23114 rows x 4 columns]"
      ]
     },
     "execution_count": 7,
     "metadata": {},
     "output_type": "execute_result"
    }
   ],
   "source": [
    "\n",
    "monthly_vol[\"close_adj\"] = spx_volume[\"close_adj\"].pct_change()\n",
    "\n",
    "monthly_vol\n"
   ]
  },
  {
   "cell_type": "code",
   "execution_count": 8,
   "id": "7cf9f478",
   "metadata": {},
   "outputs": [
    {
     "data": {
      "text/html": [
       "<div>\n",
       "<style scoped>\n",
       "    .dataframe tbody tr th:only-of-type {\n",
       "        vertical-align: middle;\n",
       "    }\n",
       "\n",
       "    .dataframe tbody tr th {\n",
       "        vertical-align: top;\n",
       "    }\n",
       "\n",
       "    .dataframe thead th {\n",
       "        text-align: right;\n",
       "    }\n",
       "</style>\n",
       "<table border=\"1\" class=\"dataframe\">\n",
       "  <thead>\n",
       "    <tr style=\"text-align: right;\">\n",
       "      <th></th>\n",
       "      <th>date</th>\n",
       "      <th>ticker</th>\n",
       "      <th>pct_chg</th>\n",
       "      <th>volume</th>\n",
       "    </tr>\n",
       "  </thead>\n",
       "  <tbody>\n",
       "    <tr>\n",
       "      <th>132333</th>\n",
       "      <td>2015-01-31</td>\n",
       "      <td>A</td>\n",
       "      <td>NaN</td>\n",
       "      <td>3054313</td>\n",
       "    </tr>\n",
       "    <tr>\n",
       "      <th>132334</th>\n",
       "      <td>2015-01-31</td>\n",
       "      <td>AAL</td>\n",
       "      <td>0.317476</td>\n",
       "      <td>18473105</td>\n",
       "    </tr>\n",
       "    <tr>\n",
       "      <th>132335</th>\n",
       "      <td>2015-01-31</td>\n",
       "      <td>AAP</td>\n",
       "      <td>2.196826</td>\n",
       "      <td>830486</td>\n",
       "    </tr>\n",
       "    <tr>\n",
       "      <th>132336</th>\n",
       "      <td>2015-01-31</td>\n",
       "      <td>AAPL</td>\n",
       "      <td>-0.823133</td>\n",
       "      <td>83745461</td>\n",
       "    </tr>\n",
       "    <tr>\n",
       "      <th>132337</th>\n",
       "      <td>2015-01-31</td>\n",
       "      <td>ABBV</td>\n",
       "      <td>0.632224</td>\n",
       "      <td>17582302</td>\n",
       "    </tr>\n",
       "    <tr>\n",
       "      <th>...</th>\n",
       "      <td>...</td>\n",
       "      <td>...</td>\n",
       "      <td>...</td>\n",
       "      <td>...</td>\n",
       "    </tr>\n",
       "    <tr>\n",
       "      <th>155442</th>\n",
       "      <td>2018-12-31</td>\n",
       "      <td>YUM</td>\n",
       "      <td>0.344526</td>\n",
       "      <td>1657022</td>\n",
       "    </tr>\n",
       "    <tr>\n",
       "      <th>155443</th>\n",
       "      <td>2018-12-31</td>\n",
       "      <td>ZBH</td>\n",
       "      <td>0.146867</td>\n",
       "      <td>1389692</td>\n",
       "    </tr>\n",
       "    <tr>\n",
       "      <th>155444</th>\n",
       "      <td>2018-12-31</td>\n",
       "      <td>ZBRA</td>\n",
       "      <td>0.629179</td>\n",
       "      <td>409064</td>\n",
       "    </tr>\n",
       "    <tr>\n",
       "      <th>155445</th>\n",
       "      <td>2018-12-31</td>\n",
       "      <td>ZION</td>\n",
       "      <td>-0.774372</td>\n",
       "      <td>2575557</td>\n",
       "    </tr>\n",
       "    <tr>\n",
       "      <th>155446</th>\n",
       "      <td>2018-12-31</td>\n",
       "      <td>ZTS</td>\n",
       "      <td>1.317323</td>\n",
       "      <td>1485209</td>\n",
       "    </tr>\n",
       "  </tbody>\n",
       "</table>\n",
       "<p>23114 rows × 4 columns</p>\n",
       "</div>"
      ],
      "text/plain": [
       "              date ticker   pct_chg    volume\n",
       "132333  2015-01-31      A       NaN   3054313\n",
       "132334  2015-01-31    AAL  0.317476  18473105\n",
       "132335  2015-01-31    AAP  2.196826    830486\n",
       "132336  2015-01-31   AAPL -0.823133  83745461\n",
       "132337  2015-01-31   ABBV  0.632224  17582302\n",
       "...            ...    ...       ...       ...\n",
       "155442  2018-12-31    YUM  0.344526   1657022\n",
       "155443  2018-12-31    ZBH  0.146867   1389692\n",
       "155444  2018-12-31   ZBRA  0.629179    409064\n",
       "155445  2018-12-31   ZION -0.774372   2575557\n",
       "155446  2018-12-31    ZTS  1.317323   1485209\n",
       "\n",
       "[23114 rows x 4 columns]"
      ]
     },
     "execution_count": 8,
     "metadata": {},
     "output_type": "execute_result"
    }
   ],
   "source": [
    "monthly_vol.rename(columns={\"close_adj\" : \"pct_chg\"}, inplace=True)\n",
    "monthly_vol"
   ]
  },
  {
   "cell_type": "code",
   "execution_count": 9,
   "id": "ad872a9f",
   "metadata": {},
   "outputs": [
    {
     "data": {
      "text/html": [
       "<div>\n",
       "<style scoped>\n",
       "    .dataframe tbody tr th:only-of-type {\n",
       "        vertical-align: middle;\n",
       "    }\n",
       "\n",
       "    .dataframe tbody tr th {\n",
       "        vertical-align: top;\n",
       "    }\n",
       "\n",
       "    .dataframe thead th {\n",
       "        text-align: right;\n",
       "    }\n",
       "</style>\n",
       "<table border=\"1\" class=\"dataframe\">\n",
       "  <thead>\n",
       "    <tr style=\"text-align: right;\">\n",
       "      <th></th>\n",
       "      <th>date</th>\n",
       "      <th>ticker</th>\n",
       "      <th>pct_chg</th>\n",
       "      <th>volume</th>\n",
       "      <th>quintile</th>\n",
       "    </tr>\n",
       "  </thead>\n",
       "  <tbody>\n",
       "    <tr>\n",
       "      <th>132333</th>\n",
       "      <td>2015-01-31</td>\n",
       "      <td>A</td>\n",
       "      <td>NaN</td>\n",
       "      <td>3054313</td>\n",
       "      <td>4</td>\n",
       "    </tr>\n",
       "    <tr>\n",
       "      <th>132334</th>\n",
       "      <td>2015-01-31</td>\n",
       "      <td>AAL</td>\n",
       "      <td>0.317476</td>\n",
       "      <td>18473105</td>\n",
       "      <td>5</td>\n",
       "    </tr>\n",
       "    <tr>\n",
       "      <th>132335</th>\n",
       "      <td>2015-01-31</td>\n",
       "      <td>AAP</td>\n",
       "      <td>2.196826</td>\n",
       "      <td>830486</td>\n",
       "      <td>1</td>\n",
       "    </tr>\n",
       "    <tr>\n",
       "      <th>132336</th>\n",
       "      <td>2015-01-31</td>\n",
       "      <td>AAPL</td>\n",
       "      <td>-0.823133</td>\n",
       "      <td>83745461</td>\n",
       "      <td>5</td>\n",
       "    </tr>\n",
       "    <tr>\n",
       "      <th>132337</th>\n",
       "      <td>2015-01-31</td>\n",
       "      <td>ABBV</td>\n",
       "      <td>0.632224</td>\n",
       "      <td>17582302</td>\n",
       "      <td>5</td>\n",
       "    </tr>\n",
       "    <tr>\n",
       "      <th>...</th>\n",
       "      <td>...</td>\n",
       "      <td>...</td>\n",
       "      <td>...</td>\n",
       "      <td>...</td>\n",
       "      <td>...</td>\n",
       "    </tr>\n",
       "    <tr>\n",
       "      <th>155442</th>\n",
       "      <td>2018-12-31</td>\n",
       "      <td>YUM</td>\n",
       "      <td>0.344526</td>\n",
       "      <td>1657022</td>\n",
       "      <td>3</td>\n",
       "    </tr>\n",
       "    <tr>\n",
       "      <th>155443</th>\n",
       "      <td>2018-12-31</td>\n",
       "      <td>ZBH</td>\n",
       "      <td>0.146867</td>\n",
       "      <td>1389692</td>\n",
       "      <td>2</td>\n",
       "    </tr>\n",
       "    <tr>\n",
       "      <th>155444</th>\n",
       "      <td>2018-12-31</td>\n",
       "      <td>ZBRA</td>\n",
       "      <td>0.629179</td>\n",
       "      <td>409064</td>\n",
       "      <td>1</td>\n",
       "    </tr>\n",
       "    <tr>\n",
       "      <th>155445</th>\n",
       "      <td>2018-12-31</td>\n",
       "      <td>ZION</td>\n",
       "      <td>-0.774372</td>\n",
       "      <td>2575557</td>\n",
       "      <td>3</td>\n",
       "    </tr>\n",
       "    <tr>\n",
       "      <th>155446</th>\n",
       "      <td>2018-12-31</td>\n",
       "      <td>ZTS</td>\n",
       "      <td>1.317323</td>\n",
       "      <td>1485209</td>\n",
       "      <td>2</td>\n",
       "    </tr>\n",
       "  </tbody>\n",
       "</table>\n",
       "<p>23114 rows × 5 columns</p>\n",
       "</div>"
      ],
      "text/plain": [
       "              date ticker   pct_chg    volume quintile\n",
       "132333  2015-01-31      A       NaN   3054313        4\n",
       "132334  2015-01-31    AAL  0.317476  18473105        5\n",
       "132335  2015-01-31    AAP  2.196826    830486        1\n",
       "132336  2015-01-31   AAPL -0.823133  83745461        5\n",
       "132337  2015-01-31   ABBV  0.632224  17582302        5\n",
       "...            ...    ...       ...       ...      ...\n",
       "155442  2018-12-31    YUM  0.344526   1657022        3\n",
       "155443  2018-12-31    ZBH  0.146867   1389692        2\n",
       "155444  2018-12-31   ZBRA  0.629179    409064        1\n",
       "155445  2018-12-31   ZION -0.774372   2575557        3\n",
       "155446  2018-12-31    ZTS  1.317323   1485209        2\n",
       "\n",
       "[23114 rows x 5 columns]"
      ]
     },
     "execution_count": 9,
     "metadata": {},
     "output_type": "execute_result"
    }
   ],
   "source": [
    "monthly_vol[\"quintile\"] = pd.qcut(monthly_vol[\"volume\"], q = 5, labels=[1, 2, 3, 4, 5])\n",
    "monthly_vol"
   ]
  },
  {
   "cell_type": "code",
   "execution_count": 17,
   "id": "5979cdf6",
   "metadata": {},
   "outputs": [],
   "source": [
    "#spx2.pct_change()\n",
    "#np.log(spx2).diff().cumsum().plot()\n",
    "\n",
    "monthly_vol_2015 = monthly_vol[(monthly_vol['date'] >= '2015-01-01') & (monthly_vol['date'] <= '2015-12-31')]\n",
    "monthly_vol_2016 = monthly_vol[(monthly_vol['date'] >= '2016-01-01') & (monthly_vol['date'] <= '2016-12-31')]\n",
    "monthly_vol_2017 = monthly_vol[(monthly_vol['date'] >= '2017-01-01') & (monthly_vol['date'] <= '2017-12-31')]\n",
    "monthly_vol_2018 = monthly_vol[(monthly_vol['date'] >= '2018-01-01') & (monthly_vol['date'] <= '2018-12-31')]"
   ]
  },
  {
   "cell_type": "code",
   "execution_count": 28,
   "id": "8381d8b0",
   "metadata": {},
   "outputs": [
    {
     "data": {
      "text/html": [
       "<div>\n",
       "<style scoped>\n",
       "    .dataframe tbody tr th:only-of-type {\n",
       "        vertical-align: middle;\n",
       "    }\n",
       "\n",
       "    .dataframe tbody tr th {\n",
       "        vertical-align: top;\n",
       "    }\n",
       "\n",
       "    .dataframe thead th {\n",
       "        text-align: right;\n",
       "    }\n",
       "</style>\n",
       "<table border=\"1\" class=\"dataframe\">\n",
       "  <thead>\n",
       "    <tr style=\"text-align: right;\">\n",
       "      <th></th>\n",
       "      <th>date</th>\n",
       "      <th>ticker</th>\n",
       "      <th>pct_chg</th>\n",
       "      <th>volume</th>\n",
       "      <th>quintile</th>\n",
       "    </tr>\n",
       "  </thead>\n",
       "  <tbody>\n",
       "    <tr>\n",
       "      <th>132333</th>\n",
       "      <td>2015-01-31</td>\n",
       "      <td>A</td>\n",
       "      <td>NaN</td>\n",
       "      <td>3054313</td>\n",
       "      <td>4</td>\n",
       "    </tr>\n",
       "    <tr>\n",
       "      <th>132334</th>\n",
       "      <td>2015-01-31</td>\n",
       "      <td>AAL</td>\n",
       "      <td>0.317476</td>\n",
       "      <td>18473105</td>\n",
       "      <td>5</td>\n",
       "    </tr>\n",
       "    <tr>\n",
       "      <th>132335</th>\n",
       "      <td>2015-01-31</td>\n",
       "      <td>AAP</td>\n",
       "      <td>2.196826</td>\n",
       "      <td>830486</td>\n",
       "      <td>1</td>\n",
       "    </tr>\n",
       "    <tr>\n",
       "      <th>132336</th>\n",
       "      <td>2015-01-31</td>\n",
       "      <td>AAPL</td>\n",
       "      <td>-0.823133</td>\n",
       "      <td>83745461</td>\n",
       "      <td>5</td>\n",
       "    </tr>\n",
       "    <tr>\n",
       "      <th>132337</th>\n",
       "      <td>2015-01-31</td>\n",
       "      <td>ABBV</td>\n",
       "      <td>0.632224</td>\n",
       "      <td>17582302</td>\n",
       "      <td>5</td>\n",
       "    </tr>\n",
       "    <tr>\n",
       "      <th>...</th>\n",
       "      <td>...</td>\n",
       "      <td>...</td>\n",
       "      <td>...</td>\n",
       "      <td>...</td>\n",
       "      <td>...</td>\n",
       "    </tr>\n",
       "    <tr>\n",
       "      <th>138023</th>\n",
       "      <td>2015-12-31</td>\n",
       "      <td>YUM</td>\n",
       "      <td>0.368917</td>\n",
       "      <td>1748090</td>\n",
       "      <td>3</td>\n",
       "    </tr>\n",
       "    <tr>\n",
       "      <th>138024</th>\n",
       "      <td>2015-12-31</td>\n",
       "      <td>ZBH</td>\n",
       "      <td>1.064296</td>\n",
       "      <td>659571</td>\n",
       "      <td>1</td>\n",
       "    </tr>\n",
       "    <tr>\n",
       "      <th>138025</th>\n",
       "      <td>2015-12-31</td>\n",
       "      <td>ZBRA</td>\n",
       "      <td>-0.261277</td>\n",
       "      <td>369337</td>\n",
       "      <td>1</td>\n",
       "    </tr>\n",
       "    <tr>\n",
       "      <th>138026</th>\n",
       "      <td>2015-12-31</td>\n",
       "      <td>ZION</td>\n",
       "      <td>-0.667684</td>\n",
       "      <td>1737623</td>\n",
       "      <td>3</td>\n",
       "    </tr>\n",
       "    <tr>\n",
       "      <th>138027</th>\n",
       "      <td>2015-12-31</td>\n",
       "      <td>ZTS</td>\n",
       "      <td>0.972204</td>\n",
       "      <td>1768460</td>\n",
       "      <td>3</td>\n",
       "    </tr>\n",
       "  </tbody>\n",
       "</table>\n",
       "<p>5695 rows × 5 columns</p>\n",
       "</div>"
      ],
      "text/plain": [
       "              date ticker   pct_chg    volume quintile\n",
       "132333  2015-01-31      A       NaN   3054313        4\n",
       "132334  2015-01-31    AAL  0.317476  18473105        5\n",
       "132335  2015-01-31    AAP  2.196826    830486        1\n",
       "132336  2015-01-31   AAPL -0.823133  83745461        5\n",
       "132337  2015-01-31   ABBV  0.632224  17582302        5\n",
       "...            ...    ...       ...       ...      ...\n",
       "138023  2015-12-31    YUM  0.368917   1748090        3\n",
       "138024  2015-12-31    ZBH  1.064296    659571        1\n",
       "138025  2015-12-31   ZBRA -0.261277    369337        1\n",
       "138026  2015-12-31   ZION -0.667684   1737623        3\n",
       "138027  2015-12-31    ZTS  0.972204   1768460        3\n",
       "\n",
       "[5695 rows x 5 columns]"
      ]
     },
     "execution_count": 28,
     "metadata": {},
     "output_type": "execute_result"
    }
   ],
   "source": [
    "monthly_vol_2015"
   ]
  },
  {
   "cell_type": "code",
   "execution_count": 31,
   "id": "bbdb27e1",
   "metadata": {},
   "outputs": [
    {
     "data": {
      "text/plain": [
       "<matplotlib.axes._subplots.AxesSubplot at 0x1028c1c3688>"
      ]
     },
     "execution_count": 31,
     "metadata": {},
     "output_type": "execute_result"
    },
    {
     "data": {
      "image/png": "[encoded data removed]",
      "text/plain": [
       "<Figure size 432x288 with 1 Axes>"
      ]
     },
     "metadata": {
      "needs_background": "light"
     },
     "output_type": "display_data"
    }
   ],
   "source": [
    "monthly_vol_2015.groupby(\"quintile\").mean()[\"pct_chg\"].plot(kind=\"bar\")"
   ]
  },
  {
   "cell_type": "code",
   "execution_count": 32,
   "id": "8fb9a87a",
   "metadata": {},
   "outputs": [
    {
     "data": {
      "text/plain": [
       "<matplotlib.axes._subplots.AxesSubplot at 0x1028c0f62c8>"
      ]
     },
     "execution_count": 32,
     "metadata": {},
     "output_type": "execute_result"
    },
    {
     "data": {
      "image/png": "[encoded data removed]",
      "text/plain": [
       "<Figure size 432x288 with 1 Axes>"
      ]
     },
     "metadata": {
      "needs_background": "light"
     },
     "output_type": "display_data"
    }
   ],
   "source": [
    "monthly_vol_2015.groupby(\"quintile\").mean()[\"volume\"].plot(kind=\"bar\")"
   ]
  },
  {
   "cell_type": "code",
   "execution_count": null,
   "id": "4dfd1328",
   "metadata": {},
   "outputs": [],
   "source": [
    "monthly_vol_2015.groupby(\"quintile\").mean()[\"pct_chg\"].plot(kind=\"bar\")"
   ]
  },
  {
   "cell_type": "code",
   "execution_count": null,
   "id": "4d959e81",
   "metadata": {},
   "outputs": [],
   "source": []
  },
  {
   "cell_type": "code",
   "execution_count": null,
   "id": "0b1072d3",
   "metadata": {},
   "outputs": [],
   "source": []
  },
  {
   "cell_type": "code",
   "execution_count": 26,
   "id": "b619557c",
   "metadata": {},
   "outputs": [
    {
     "data": {
      "text/html": [
       "<div>\n",
       "<style scoped>\n",
       "    .dataframe tbody tr th:only-of-type {\n",
       "        vertical-align: middle;\n",
       "    }\n",
       "\n",
       "    .dataframe tbody tr th {\n",
       "        vertical-align: top;\n",
       "    }\n",
       "\n",
       "    .dataframe thead th {\n",
       "        text-align: right;\n",
       "    }\n",
       "</style>\n",
       "<table border=\"1\" class=\"dataframe\">\n",
       "  <thead>\n",
       "    <tr style=\"text-align: right;\">\n",
       "      <th></th>\n",
       "      <th>pct_chg</th>\n",
       "      <th>volume</th>\n",
       "    </tr>\n",
       "    <tr>\n",
       "      <th>date</th>\n",
       "      <th></th>\n",
       "      <th></th>\n",
       "    </tr>\n",
       "  </thead>\n",
       "  <tbody>\n",
       "    <tr>\n",
       "      <th>2015-01-31</th>\n",
       "      <td>1.301718</td>\n",
       "      <td>5.507287e+06</td>\n",
       "    </tr>\n",
       "    <tr>\n",
       "      <th>2015-02-28</th>\n",
       "      <td>1.253577</td>\n",
       "      <td>3.807078e+06</td>\n",
       "    </tr>\n",
       "    <tr>\n",
       "      <th>2015-03-31</th>\n",
       "      <td>1.286518</td>\n",
       "      <td>3.687261e+06</td>\n",
       "    </tr>\n",
       "    <tr>\n",
       "      <th>2015-04-30</th>\n",
       "      <td>1.236870</td>\n",
       "      <td>4.583063e+06</td>\n",
       "    </tr>\n",
       "    <tr>\n",
       "      <th>2015-05-31</th>\n",
       "      <td>1.260019</td>\n",
       "      <td>4.330603e+06</td>\n",
       "    </tr>\n",
       "    <tr>\n",
       "      <th>2015-06-30</th>\n",
       "      <td>1.313191</td>\n",
       "      <td>4.290746e+06</td>\n",
       "    </tr>\n",
       "    <tr>\n",
       "      <th>2015-07-31</th>\n",
       "      <td>1.416545</td>\n",
       "      <td>3.964832e+06</td>\n",
       "    </tr>\n",
       "    <tr>\n",
       "      <th>2015-08-31</th>\n",
       "      <td>1.368759</td>\n",
       "      <td>4.348176e+06</td>\n",
       "    </tr>\n",
       "    <tr>\n",
       "      <th>2015-09-30</th>\n",
       "      <td>1.333998</td>\n",
       "      <td>4.864818e+06</td>\n",
       "    </tr>\n",
       "    <tr>\n",
       "      <th>2015-10-31</th>\n",
       "      <td>1.313981</td>\n",
       "      <td>4.921052e+06</td>\n",
       "    </tr>\n",
       "    <tr>\n",
       "      <th>2015-11-30</th>\n",
       "      <td>1.355076</td>\n",
       "      <td>4.574298e+06</td>\n",
       "    </tr>\n",
       "    <tr>\n",
       "      <th>2015-12-31</th>\n",
       "      <td>1.294329</td>\n",
       "      <td>2.788707e+06</td>\n",
       "    </tr>\n",
       "  </tbody>\n",
       "</table>\n",
       "</div>"
      ],
      "text/plain": [
       "             pct_chg        volume\n",
       "date                              \n",
       "2015-01-31  1.301718  5.507287e+06\n",
       "2015-02-28  1.253577  3.807078e+06\n",
       "2015-03-31  1.286518  3.687261e+06\n",
       "2015-04-30  1.236870  4.583063e+06\n",
       "2015-05-31  1.260019  4.330603e+06\n",
       "2015-06-30  1.313191  4.290746e+06\n",
       "2015-07-31  1.416545  3.964832e+06\n",
       "2015-08-31  1.368759  4.348176e+06\n",
       "2015-09-30  1.333998  4.864818e+06\n",
       "2015-10-31  1.313981  4.921052e+06\n",
       "2015-11-30  1.355076  4.574298e+06\n",
       "2015-12-31  1.294329  2.788707e+06"
      ]
     },
     "execution_count": 26,
     "metadata": {},
     "output_type": "execute_result"
    }
   ],
   "source": [
    "group_2015 = monthly_vol_2015.groupby(\"date\").mean()\n",
    "group_2015"
   ]
  },
  {
   "cell_type": "code",
   "execution_count": 27,
   "id": "ba13b927",
   "metadata": {},
   "outputs": [
    {
     "data": {
      "image/png": "[encoded data removed]",
      "text/plain": [
       "<Figure size 432x288 with 1 Axes>"
      ]
     },
     "metadata": {
      "needs_background": "light"
     },
     "output_type": "display_data"
    }
   ],
   "source": [
    "monthly_vol_2015.plot.scatter(x=\"quintile\", y=\"pct_chg\")\n",
    "plt.show()"
   ]
  },
  {
   "cell_type": "code",
   "execution_count": 19,
   "id": "324c5cba",
   "metadata": {},
   "outputs": [
    {
     "data": {
      "image/png": "[encoded data removed]",
      "text/plain": [
       "<Figure size 432x288 with 1 Axes>"
      ]
     },
     "metadata": {
      "needs_background": "light"
     },
     "output_type": "display_data"
    }
   ],
   "source": [
    "monthly_vol_2016.plot.scatter(x=\"volume\", y=\"pct_chg\")\n",
    "plt.show()"
   ]
  },
  {
   "cell_type": "code",
   "execution_count": 20,
   "id": "985e56b8",
   "metadata": {},
   "outputs": [
    {
     "data": {
      "image/png": "[encoded data removed]",
      "text/plain": [
       "<Figure size 432x288 with 1 Axes>"
      ]
     },
     "metadata": {
      "needs_background": "light"
     },
     "output_type": "display_data"
    }
   ],
   "source": [
    "monthly_vol_2017.plot.scatter(x=\"volume\", y=\"pct_chg\")\n",
    "plt.show()"
   ]
  },
  {
   "cell_type": "code",
   "execution_count": 21,
   "id": "ab2c2fda",
   "metadata": {},
   "outputs": [
    {
     "data": {
      "image/png": "[encoded data removed]",
      "text/plain": [
       "<Figure size 432x288 with 1 Axes>"
      ]
     },
     "metadata": {
      "needs_background": "light"
     },
     "output_type": "display_data"
    }
   ],
   "source": [
    "monthly_vol_2018.plot.scatter(x=\"volume\", y=\"pct_chg\")\n",
    "plt.show()"
   ]
  }
 ],
 "metadata": {
  "kernelspec": {
   "display_name": "PythonData",
   "language": "python",
   "name": "pythondata"
  },
  "language_info": {
   "codemirror_mode": {
    "name": "ipython",
    "version": 3
   },
   "file_extension": ".py",
   "mimetype": "text/x-python",
   "name": "python",
   "nbconvert_exporter": "python",
   "pygments_lexer": "ipython3",
   "version": "3.7.7"
  }
 },
 "nbformat": 4,
 "nbformat_minor": 5
}
