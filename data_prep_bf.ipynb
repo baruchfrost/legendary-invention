{
 "cells": [
  {
   "cell_type": "code",
   "execution_count": 3,
   "metadata": {},
   "outputs": [],
   "source": [
    "# imports\n",
    "import pandas as pd"
   ]
  },
  {
   "cell_type": "code",
   "execution_count": 4,
   "metadata": {},
   "outputs": [],
   "source": [
    "# Acquire initial data set\n",
    "dataset_path = \"./archive/all_stocks_5yr.csv\"\n",
    "\n",
    "raw_allstock_5yr_data = pd.read_csv(dataset_path)\n",
    "\n",
    "clean_allstock_5yr = raw_allstock_5yr_data.copy()"
   ]
  },
  {
   "cell_type": "code",
   "execution_count": 5,
   "metadata": {},
   "outputs": [],
   "source": [
    "# clean up the column names and datetime format\n",
    "clean_allstock_5yr.rename(columns={\"Name\" : \"name\"}, inplace=True)\n",
    "clean_allstock_5yr[\"date\"] = pd.to_datetime(clean_allstock_5yr['date'])\n",
    "clean_allstock_5yr['year'] = clean_allstock_5yr['date'].apply(lambda date: date.year)\n"
   ]
  },
  {
   "cell_type": "code",
   "execution_count": 6,
   "metadata": {},
   "outputs": [
    {
     "data": {
      "text/plain": [
       "numpy.int64"
      ]
     },
     "execution_count": 6,
     "metadata": {},
     "output_type": "execute_result"
    }
   ],
   "source": [
    "# visualize the dataframe\n",
    "clean_allstock_5yr.tail()\n",
    "type(clean_allstock_5yr['year'][0])"
   ]
  },
  {
   "cell_type": "code",
   "execution_count": 7,
   "metadata": {},
   "outputs": [],
   "source": [
    "# removing the partial data from 2013 and 2018, leaving us with 4 years of complete data\n",
    "clean_allstock_4yr = clean_allstock_5yr.loc[(clean_allstock_5yr['year'] != 2013) & (clean_allstock_5yr['year'] != 2018)]\n"
   ]
  },
  {
   "cell_type": "code",
   "execution_count": 8,
   "metadata": {},
   "outputs": [
    {
     "data": {
      "text/html": [
       "<div>\n",
       "<style scoped>\n",
       "    .dataframe tbody tr th:only-of-type {\n",
       "        vertical-align: middle;\n",
       "    }\n",
       "\n",
       "    .dataframe tbody tr th {\n",
       "        vertical-align: top;\n",
       "    }\n",
       "\n",
       "    .dataframe thead th {\n",
       "        text-align: right;\n",
       "    }\n",
       "</style>\n",
       "<table border=\"1\" class=\"dataframe\">\n",
       "  <thead>\n",
       "    <tr style=\"text-align: right;\">\n",
       "      <th></th>\n",
       "      <th>date</th>\n",
       "      <th>open</th>\n",
       "      <th>high</th>\n",
       "      <th>low</th>\n",
       "      <th>close</th>\n",
       "      <th>volume</th>\n",
       "      <th>name</th>\n",
       "      <th>year</th>\n",
       "    </tr>\n",
       "  </thead>\n",
       "  <tbody>\n",
       "    <tr>\n",
       "      <th>226</th>\n",
       "      <td>2014-01-02</td>\n",
       "      <td>25.07</td>\n",
       "      <td>25.8200</td>\n",
       "      <td>25.06</td>\n",
       "      <td>25.360</td>\n",
       "      <td>8998943</td>\n",
       "      <td>AAL</td>\n",
       "      <td>2014</td>\n",
       "    </tr>\n",
       "    <tr>\n",
       "      <th>227</th>\n",
       "      <td>2014-01-03</td>\n",
       "      <td>25.75</td>\n",
       "      <td>26.7500</td>\n",
       "      <td>25.51</td>\n",
       "      <td>26.540</td>\n",
       "      <td>13836062</td>\n",
       "      <td>AAL</td>\n",
       "      <td>2014</td>\n",
       "    </tr>\n",
       "    <tr>\n",
       "      <th>228</th>\n",
       "      <td>2014-01-06</td>\n",
       "      <td>26.62</td>\n",
       "      <td>27.2000</td>\n",
       "      <td>26.60</td>\n",
       "      <td>27.030</td>\n",
       "      <td>11272273</td>\n",
       "      <td>AAL</td>\n",
       "      <td>2014</td>\n",
       "    </tr>\n",
       "    <tr>\n",
       "      <th>229</th>\n",
       "      <td>2014-01-07</td>\n",
       "      <td>27.20</td>\n",
       "      <td>27.3997</td>\n",
       "      <td>26.67</td>\n",
       "      <td>26.905</td>\n",
       "      <td>11288775</td>\n",
       "      <td>AAL</td>\n",
       "      <td>2014</td>\n",
       "    </tr>\n",
       "    <tr>\n",
       "      <th>230</th>\n",
       "      <td>2014-01-08</td>\n",
       "      <td>26.37</td>\n",
       "      <td>27.6800</td>\n",
       "      <td>26.35</td>\n",
       "      <td>27.630</td>\n",
       "      <td>15736891</td>\n",
       "      <td>AAL</td>\n",
       "      <td>2014</td>\n",
       "    </tr>\n",
       "    <tr>\n",
       "      <th>...</th>\n",
       "      <td>...</td>\n",
       "      <td>...</td>\n",
       "      <td>...</td>\n",
       "      <td>...</td>\n",
       "      <td>...</td>\n",
       "      <td>...</td>\n",
       "      <td>...</td>\n",
       "      <td>...</td>\n",
       "    </tr>\n",
       "    <tr>\n",
       "      <th>619009</th>\n",
       "      <td>2017-12-22</td>\n",
       "      <td>72.30</td>\n",
       "      <td>72.3700</td>\n",
       "      <td>71.79</td>\n",
       "      <td>71.990</td>\n",
       "      <td>1345683</td>\n",
       "      <td>ZTS</td>\n",
       "      <td>2017</td>\n",
       "    </tr>\n",
       "    <tr>\n",
       "      <th>619010</th>\n",
       "      <td>2017-12-26</td>\n",
       "      <td>72.40</td>\n",
       "      <td>72.5500</td>\n",
       "      <td>71.90</td>\n",
       "      <td>72.340</td>\n",
       "      <td>792134</td>\n",
       "      <td>ZTS</td>\n",
       "      <td>2017</td>\n",
       "    </tr>\n",
       "    <tr>\n",
       "      <th>619011</th>\n",
       "      <td>2017-12-27</td>\n",
       "      <td>72.59</td>\n",
       "      <td>72.6900</td>\n",
       "      <td>72.25</td>\n",
       "      <td>72.450</td>\n",
       "      <td>1159771</td>\n",
       "      <td>ZTS</td>\n",
       "      <td>2017</td>\n",
       "    </tr>\n",
       "    <tr>\n",
       "      <th>619012</th>\n",
       "      <td>2017-12-28</td>\n",
       "      <td>72.49</td>\n",
       "      <td>72.6000</td>\n",
       "      <td>72.14</td>\n",
       "      <td>72.390</td>\n",
       "      <td>710499</td>\n",
       "      <td>ZTS</td>\n",
       "      <td>2017</td>\n",
       "    </tr>\n",
       "    <tr>\n",
       "      <th>619013</th>\n",
       "      <td>2017-12-29</td>\n",
       "      <td>72.55</td>\n",
       "      <td>72.7600</td>\n",
       "      <td>72.04</td>\n",
       "      <td>72.040</td>\n",
       "      <td>1704122</td>\n",
       "      <td>ZTS</td>\n",
       "      <td>2017</td>\n",
       "    </tr>\n",
       "  </tbody>\n",
       "</table>\n",
       "<p>497472 rows × 8 columns</p>\n",
       "</div>"
      ],
      "text/plain": [
       "             date   open     high    low   close    volume name  year\n",
       "226    2014-01-02  25.07  25.8200  25.06  25.360   8998943  AAL  2014\n",
       "227    2014-01-03  25.75  26.7500  25.51  26.540  13836062  AAL  2014\n",
       "228    2014-01-06  26.62  27.2000  26.60  27.030  11272273  AAL  2014\n",
       "229    2014-01-07  27.20  27.3997  26.67  26.905  11288775  AAL  2014\n",
       "230    2014-01-08  26.37  27.6800  26.35  27.630  15736891  AAL  2014\n",
       "...           ...    ...      ...    ...     ...       ...  ...   ...\n",
       "619009 2017-12-22  72.30  72.3700  71.79  71.990   1345683  ZTS  2017\n",
       "619010 2017-12-26  72.40  72.5500  71.90  72.340    792134  ZTS  2017\n",
       "619011 2017-12-27  72.59  72.6900  72.25  72.450   1159771  ZTS  2017\n",
       "619012 2017-12-28  72.49  72.6000  72.14  72.390    710499  ZTS  2017\n",
       "619013 2017-12-29  72.55  72.7600  72.04  72.040   1704122  ZTS  2017\n",
       "\n",
       "[497472 rows x 8 columns]"
      ]
     },
     "execution_count": 8,
     "metadata": {},
     "output_type": "execute_result"
    }
   ],
   "source": [
    "# visualize the new dataframe\n",
    "clean_allstock_4yr"
   ]
  },
  {
   "cell_type": "code",
   "execution_count": 9,
   "metadata": {},
   "outputs": [],
   "source": [
    "# write out the new df to a csv file\n",
    "clean_allstock_4yr.to_csv(\"all_stocks_4yr.csv\", index=False)"
   ]
  },
  {
   "cell_type": "code",
   "execution_count": 10,
   "metadata": {},
   "outputs": [],
   "source": [
    "# use a list of the four years in a for loop to find the volume of each stock each year\n",
    "years = [2014, 2015, 2016, 2017]\n",
    "volume_data = pd.DataFrame()\n",
    "\n",
    "for year in years:\n",
    "    year_data = clean_allstock_4yr[clean_allstock_4yr['year'] == year]\n",
    "    year_volume = year_data.groupby('name').sum()['volume']\n",
    "    volume_data[str(year)] = year_volume\n",
    "\n",
    "volume_data['name'] = volume_data.index\n",
    "volume_data.reset_index(drop=True, inplace=True)\n",
    "\n",
    "# write out the dataframe to a csv file\n",
    "volume_data.to_csv('all_years_volume_per_stock.csv', index=False)"
   ]
  },
  {
   "cell_type": "code",
   "execution_count": null,
   "metadata": {},
   "outputs": [],
   "source": []
  }
 ],
 "metadata": {
  "kernelspec": {
   "display_name": "PythonData",
   "language": "python",
   "name": "pythondata"
  },
  "language_info": {
   "codemirror_mode": {
    "name": "ipython",
    "version": 3
   },
   "file_extension": ".py",
   "mimetype": "text/x-python",
   "name": "python",
   "nbconvert_exporter": "python",
   "pygments_lexer": "ipython3",
   "version": "3.7.7"
  },
  "orig_nbformat": 4
 },
 "nbformat": 4,
 "nbformat_minor": 2
}
